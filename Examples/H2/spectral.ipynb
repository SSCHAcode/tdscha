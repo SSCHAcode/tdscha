{
 "cells": [
  {
   "cell_type": "code",
   "execution_count": 1,
   "id": "47baba4f-901c-415b-b3fa-2fa6aca1b7aa",
   "metadata": {
    "collapsed": true,
    "jupyter": {
     "outputs_hidden": true
    },
    "tags": []
   },
   "outputs": [
    {
     "ename": "ModuleNotFoundError",
     "evalue": "No module named 'tdscha.DynamicalLanczos'; 'tdscha' is not a package",
     "output_type": "error",
     "traceback": [
      "\u001b[0;31m---------------------------------------------------------------------------\u001b[0m",
      "\u001b[0;31mModuleNotFoundError\u001b[0m                       Traceback (most recent call last)",
      "\u001b[0;32m<ipython-input-1-517a49d07315>\u001b[0m in \u001b[0;36m<module>\u001b[0;34m\u001b[0m\n\u001b[1;32m      4\u001b[0m \u001b[0;32mimport\u001b[0m \u001b[0msscha\u001b[0m\u001b[0;34m,\u001b[0m \u001b[0msscha\u001b[0m\u001b[0;34m.\u001b[0m\u001b[0mEnsemble\u001b[0m\u001b[0;34m\u001b[0m\u001b[0;34m\u001b[0m\u001b[0m\n\u001b[1;32m      5\u001b[0m \u001b[0;34m\u001b[0m\u001b[0m\n\u001b[0;32m----> 6\u001b[0;31m \u001b[0;32mimport\u001b[0m \u001b[0mtdscha\u001b[0m\u001b[0;34m,\u001b[0m \u001b[0mtdscha\u001b[0m\u001b[0;34m.\u001b[0m\u001b[0mDynamicalLanczos\u001b[0m \u001b[0;32mas\u001b[0m \u001b[0mDL\u001b[0m\u001b[0;34m\u001b[0m\u001b[0;34m\u001b[0m\u001b[0m\n\u001b[0m\u001b[1;32m      7\u001b[0m \u001b[0;32mimport\u001b[0m \u001b[0mtime\u001b[0m\u001b[0;34m,\u001b[0m \u001b[0mnumpy\u001b[0m \u001b[0;32mas\u001b[0m \u001b[0mnp\u001b[0m\u001b[0;34m\u001b[0m\u001b[0;34m\u001b[0m\u001b[0m\n\u001b[1;32m      8\u001b[0m \u001b[0;32mimport\u001b[0m \u001b[0mmatplotlib\u001b[0m\u001b[0;34m.\u001b[0m\u001b[0mpyplot\u001b[0m \u001b[0;32mas\u001b[0m \u001b[0mplt\u001b[0m\u001b[0;34m\u001b[0m\u001b[0;34m\u001b[0m\u001b[0m\n",
      "\u001b[0;32m~/tdscha/Examples/H2/tdscha.py\u001b[0m in \u001b[0;36m<module>\u001b[0;34m\u001b[0m\n\u001b[1;32m      4\u001b[0m \u001b[0;32mimport\u001b[0m \u001b[0msscha\u001b[0m\u001b[0;34m,\u001b[0m \u001b[0msscha\u001b[0m\u001b[0;34m.\u001b[0m\u001b[0mEnsemble\u001b[0m\u001b[0;34m\u001b[0m\u001b[0;34m\u001b[0m\u001b[0m\n\u001b[1;32m      5\u001b[0m \u001b[0;34m\u001b[0m\u001b[0m\n\u001b[0;32m----> 6\u001b[0;31m \u001b[0;32mimport\u001b[0m \u001b[0mtdscha\u001b[0m\u001b[0;34m,\u001b[0m \u001b[0mtdscha\u001b[0m\u001b[0;34m.\u001b[0m\u001b[0mDynamicalLanczos\u001b[0m \u001b[0;32mas\u001b[0m \u001b[0mDL\u001b[0m\u001b[0;34m\u001b[0m\u001b[0;34m\u001b[0m\u001b[0m\n\u001b[0m\u001b[1;32m      7\u001b[0m \u001b[0;32mimport\u001b[0m \u001b[0mtime\u001b[0m\u001b[0;34m,\u001b[0m \u001b[0mnumpy\u001b[0m \u001b[0;32mas\u001b[0m \u001b[0mnp\u001b[0m\u001b[0;34m\u001b[0m\u001b[0;34m\u001b[0m\u001b[0m\n\u001b[1;32m      8\u001b[0m \u001b[0;32mimport\u001b[0m \u001b[0mmatplotlib\u001b[0m\u001b[0;34m.\u001b[0m\u001b[0mpyplot\u001b[0m \u001b[0;32mas\u001b[0m \u001b[0mplt\u001b[0m\u001b[0;34m\u001b[0m\u001b[0;34m\u001b[0m\u001b[0m\n",
      "\u001b[0;31mModuleNotFoundError\u001b[0m: No module named 'tdscha.DynamicalLanczos'; 'tdscha' is not a package"
     ]
    }
   ],
   "source": [
    "from __future__ import print_function\n",
    "\n",
    "import cellconstructor as CC, cellconstructor.Phonons\n",
    "import sscha, sscha.Ensemble\n",
    "\n",
    "import tdscha, tdscha.DynamicalLanczos as DL\n",
    "import time, numpy as np\n",
    "import matplotlib.pyplot as plt\n",
    "import nonlinear_sscha.Conversion as conv"
   ]
  },
  {
   "cell_type": "markdown",
   "id": "9dc666ab-e109-4054-aca0-0d2c58ee27bb",
   "metadata": {},
   "source": [
    "## Spectral function"
   ]
  },
  {
   "cell_type": "code",
   "execution_count": null,
   "id": "7c2e979f-3e79-4e13-98d9-16aabb4efa8c",
   "metadata": {},
   "outputs": [],
   "source": [
    "# Here the input of the TDSCHA calculation\n",
    "USE_WIGNER = True\n",
    "# Lanczos status file\n",
    "if not USE_WIGNER:\n",
    "    DATA_FILE = \"Lanczos_H2/tdscha_lanczos_STEP2.npz\"\n",
    "else:\n",
    "    DATA_FILE = \"Lanczos_H2_wigner/tdscha_lanczos_STEP3.npz\"\n",
    "\n",
    "# If you submitted with the tdscha-lanczos.x\n",
    "# Copy all the files inside the directory\n",
    "LOAD_FROM_EXECUTABLE = False\n",
    "DIRECTORY = \"submit_on_cluster\"\n",
    "PREFIX = \"tdscha_lanczos\"\n",
    "   \n",
    "# INPUT VARIABLES -------------------\n",
    "FREQ_START = 0 # cm-1\n",
    "FREQ_END = 1000 # cm-1\n",
    "N_FREQS = 10000\n",
    "\n",
    "# Load the lanczos\n",
    "lanczos = DL.Lanczos()\n",
    "\n",
    "if not LOAD_FROM_EXECUTABLE:\n",
    "    lanczos.load_status(DATA_FILE)\n",
    "else:\n",
    "    lanczos.load_from_input_files(PREFIX, DIRECTORY)"
   ]
  },
  {
   "cell_type": "code",
   "execution_count": null,
   "id": "dbf07f00-4e21-4876-b2f5-454b32aff75a",
   "metadata": {},
   "outputs": [],
   "source": [
    "# Print on the screen the static value of the free energy hessian\n",
    "# (In this way we show how to compute the static free energy hessian).\n",
    "w_static  = np.array([0])\n",
    "gf_static = lanczos.get_green_function_continued_fraction(w_static)\n",
    "\n",
    "# The free energy hessian is the inverse of the static green function (real part)\n",
    "# computed at omega = 0\n",
    "hessian = 1 / np.real(gf_static[0])\n",
    "\n",
    "# Get the frequency (the square root with negative sign for imaginary values)\n",
    "static_frequency = np.sign(hessian) * np.sqrt(np.abs(hessian))\n",
    "\n",
    "# Convert from Ry to cm-1\n",
    "static_frequency *= CC.Units.RY_TO_CM\n",
    "\n",
    "print(\"The static frequency of the simualated mode is: {} cm-1\".format(static_frequency))"
   ]
  },
  {
   "cell_type": "code",
   "execution_count": null,
   "id": "87da1517-4af0-416e-ab30-1d6d047a09ad",
   "metadata": {
    "tags": []
   },
   "outputs": [],
   "source": [
    "# Get the frequency array for plotting\n",
    "w = np.linspace(FREQ_START, FREQ_END, N_FREQS)\n",
    "\n",
    "# Convert in Ry\n",
    "w_ry = w / CC.Units.RY_TO_CM\n",
    "\n",
    "# Get the dynamical green function\n",
    "green_function = lanczos.get_green_function_continued_fraction(w_ry)\n",
    "\n",
    "# Plot the imaginary part\n",
    "plt.figure(dpi = 150)\n",
    "plt.xlabel(\"Frequency [cm-1]\")\n",
    "plt.ylabel(\"- Im(G)\")\n",
    "plt.title(\"Spectral function\")\n",
    "\n",
    "plt.plot(w, -np.imag(green_function), label = '-Im(G)')\n",
    "plt.plot(w, np.real(green_function), label = 'Re(G)')\n",
    "# plt.vlines(-static_frequency, np.max([np.max(-np.imag(green_function)),np.max(np.real(green_function))]),\\\n",
    "#            np.min([np.min( -np.imag(green_function)),np.min(np.real(green_function))]), ls = '--', color = 'green', label = 'static frequency')\n",
    "plt.legend(loc='best')\n",
    "plt.tight_layout()\n",
    "# if not USE_WIGNER:\n",
    "#     plt.savefig('normal.eps')\n",
    "# else:\n",
    "#     plt.savefig('wigner.eps')"
   ]
  },
  {
   "cell_type": "code",
   "execution_count": null,
   "id": "8465cd5a-4bcf-4251-8039-5345b05b3790",
   "metadata": {},
   "outputs": [],
   "source": [
    "# if not USE_WIGNER:\n",
    "#     np.save('ReG',+np.real(green_function))\n",
    "#     np.save('ImG',-np.imag(green_function))\n",
    "# else:\n",
    "#     np.save('Wigner_ReG',np.real(green_function))\n",
    "#     np.save('Wigner_ImG',-np.imag(green_function))"
   ]
  },
  {
   "cell_type": "code",
   "execution_count": null,
   "id": "16f1ed56-79cd-4e80-96c8-6ffc49a0c1b6",
   "metadata": {},
   "outputs": [],
   "source": [
    "# ReG   = np.load('ReG.npy')\n",
    "# W_ReG = np.load('Wigner_ReG.npy')\n",
    "\n",
    "# plt.plot(w,ReG*1e-3,label = 'Normal')\n",
    "# plt.plot(w,-W_ReG, label = 'Wigner')\n",
    "# plt.legend()\n",
    "# plt.tight_layout()\n",
    "# plt.savefig('ReG_comp.eps')"
   ]
  },
  {
   "cell_type": "code",
   "execution_count": null,
   "id": "b1be3e7a-0ade-42be-a834-5d6992781971",
   "metadata": {},
   "outputs": [],
   "source": [
    "# ImG   = np.load('ImG.npy')\n",
    "# W_ImG = np.load('Wigner_ImG.npy')\n",
    "\n",
    "# plt.plot(w,ImG, label = 'Normal')\n",
    "# plt.plot(w,W_ImG, label = 'Wigner')\n",
    "# plt.legend()\n",
    "# plt.tight_layout()\n",
    "# plt.savefig('ImG_comp.eps')"
   ]
  }
 ],
 "metadata": {
  "kernelspec": {
   "display_name": "Python 3",
   "language": "python",
   "name": "python3"
  },
  "language_info": {
   "codemirror_mode": {
    "name": "ipython",
    "version": 3
   },
   "file_extension": ".py",
   "mimetype": "text/x-python",
   "name": "python",
   "nbconvert_exporter": "python",
   "pygments_lexer": "ipython3",
   "version": "3.8.8"
  }
 },
 "nbformat": 4,
 "nbformat_minor": 5
}
