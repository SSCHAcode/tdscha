{
 "cells": [
  {
   "cell_type": "code",
   "execution_count": 1,
   "id": "47baba4f-901c-415b-b3fa-2fa6aca1b7aa",
   "metadata": {},
   "outputs": [],
   "source": [
    "from __future__ import print_function\n",
    "\n",
    "import cellconstructor as CC, cellconstructor.Phonons\n",
    "import sscha, sscha.Ensemble\n",
    "\n",
    "import tdscha, tdscha.DynamicalLanczos as DL\n",
    "import time, numpy as np\n",
    "import matplotlib.pyplot as plt\n",
    "import nonlinear_sscha.Conversion as conv"
   ]
  },
  {
   "cell_type": "code",
   "execution_count": 2,
   "id": "8b10d6cb-0b17-4b73-822c-3596c4ab5f1c",
   "metadata": {},
   "outputs": [],
   "source": [
    "# The dynamical matrix used to generate the ensemble\n",
    "ORIGINAL_DYN = \"H2_data/dyn_0\"\n",
    "NQIRR = 1  # Number of irreducible q points of the dynamical matrix\n",
    "\n",
    "# The final dynamical matrix (after the SSCHA minimization)\n",
    "FINAL_DYN = \"H2_data/final_dyn\"\n",
    "\n",
    "# Temperature (in K) used to generate the ensemble\n",
    "TEMPERATURE = 300\n",
    "# Temperature for the Lanczos calculation (If None the same as TEMPERATURE)\n",
    "FINAL_TEMPERATURE = None\n",
    "\n",
    "# The ensemble data\n",
    "ENSEMBLE_DIR = \"ensemble_H2\" # Directory of the ensemble\n",
    "N_CONFIGS = 1000 # Number of configurations\n",
    "POPULATION_ID = 1 # Population of the ensemble\n",
    "LOAD_BIN = True # If true, load a binary ensemble"
   ]
  },
  {
   "cell_type": "code",
   "execution_count": 3,
   "id": "feee05cc-5f43-4c38-98f5-215c80a91cc2",
   "metadata": {},
   "outputs": [],
   "source": [
    "# Here the input of the TDSCHA calculation\n",
    "LANCZOS_STEPS   = 100 # Number of Lanczos step\n",
    "USE_THIRD_ORDER = True  # Use the third order in the calculation\n",
    "USE_FOURTH_ORDER = True # Use the fourth order (2x computational cost)\n",
    "USE_WIGNER = False\n",
    "SAVE_EACH = 1 # Save the result each tot steps (for restart)\n",
    "\n",
    "if not USE_WIGNER:\n",
    "    SAVE_FOLDER = \"Lanczos_H2\" # The folder in which the data are saved\n",
    "else:\n",
    "    SAVE_FOLDER = \"Lanczos_H2_wigner\" # The folder in which the data are saved\n",
    "SAVE_PREFIX = \"tdscha_lanczos\" # The name of this calculation\n",
    "    \n",
    "MODE_PERTURBATION_ID = 0\n",
    "\n",
    "if FINAL_TEMPERATURE is None:\n",
    "    FINAL_TEMPERATURE = TEMPERATURE"
   ]
  },
  {
   "cell_type": "code",
   "execution_count": 4,
   "id": "9247449e-bb65-41da-b0c6-04ed104432c5",
   "metadata": {},
   "outputs": [
    {
     "name": "stdout",
     "output_type": "stream",
     "text": [
      "Time elapsed to prepare the rho update: 0.005218982696533203 s\n",
      " (of which to diagonalize and prepare the structure: 0.0018 s)\n",
      "(of which to update sscha energies and forces: 0.0014 s)\n",
      "(of which computing the Upsilon matrix: 0.0020 s)\n",
      "(of which to update the weights): 0.0213930606842041 s\n",
      " | to copy the dynamical matrix: 0.0001385211944580078 s\n"
     ]
    }
   ],
   "source": [
    "# Load the dynamical matrix\n",
    "dyn       = CC.Phonons.Phonons(ORIGINAL_DYN, NQIRR)\n",
    "final_dyn = CC.Phonons.Phonons(FINAL_DYN, NQIRR)\n",
    "\n",
    "# Load the ensemble\n",
    "ens = sscha.Ensemble.Ensemble(dyn, TEMPERATURE)\n",
    "if LOAD_BIN:\n",
    "    ens.load_bin(ENSEMBLE_DIR, POPULATION_ID)\n",
    "else:\n",
    "    ens.load(ENSEMBLE_DIR, POPULATION_ID, N_CONFIGS)\n",
    "\n",
    "ens.update_weights(final_dyn, FINAL_TEMPERATURE)"
   ]
  },
  {
   "cell_type": "code",
   "execution_count": 5,
   "id": "03dbbf48-ebac-4adb-8f12-3ddf8c9dd32e",
   "metadata": {},
   "outputs": [
    {
     "name": "stdout",
     "output_type": "stream",
     "text": [
      "Prepare the Lanczos...\n",
      "Time to get the symmetries [16] from spglib: 0.0009157657623291016 s\n",
      "Time to convert symmetries in the polarizaion space: 0.00493168830871582 s\n",
      "Time to create the block_id array: 4.172325134277344e-05 s\n"
     ]
    }
   ],
   "source": [
    "print(\"Prepare the Lanczos...\")\n",
    "lanczos = DL.Lanczos(ens)\n",
    "lanczos.ignore_v3 = not USE_THIRD_ORDER\n",
    "lanczos.ignore_v4 = not USE_FOURTH_ORDER\n",
    "lanczos.use_wigner = USE_WIGNER\n",
    "lanczos.init()\n",
    "\n",
    "# Here the single mode code\n",
    "lanczos.prepare_mode(MODE_PERTURBATION_ID)"
   ]
  },
  {
   "cell_type": "code",
   "execution_count": 6,
   "id": "b83532ba-3c94-496c-935a-1d9122b7f37f",
   "metadata": {
    "collapsed": true,
    "jupyter": {
     "outputs_hidden": true
    },
    "tags": []
   },
   "outputs": [
    {
     "name": "stdout",
     "output_type": "stream",
     "text": [
      "Running...\n",
      "\n",
      "<=====================================>\n",
      "|                                     |\n",
      "|          LANCZOS ALGORITHM          |\n",
      "|                                     |\n",
      "<=====================================>\n",
      "\n",
      "Starting the algorithm. It may take a while.\n",
      "Starting from step 0\n",
      "\n",
      "\n",
      "Should I ignore the third order effect? False\n",
      "Should I ignore the fourth order effect? False\n",
      "Am I using the Wigner picture? False\n",
      "Max number of iterations: 100\n",
      "\n",
      "\n",
      " ===== NEW STEP 1 =====\n",
      "\n",
      " \n",
      "Length of the coefficiets: a = 0, b = 0\n",
      "\n",
      "Time to apply the full L: 0.09223063100944273\n",
      "Time to apply the full L: 0.07398386701242998\n",
      "Time to perform the Gram-Schmidt and retrive the coefficients: 0 s\n",
      "\n",
      "a_0 = 7.48199859e-05\n",
      "b_0 = 3.45216720e-06\n",
      "c_0 = 2.90889416e-02\n",
      "\n",
      "Status saved into 'Lanczos_H2/tdscha_lanczos_STEP1'\n",
      "Lanczos step 1 ultimated.\n",
      "\n",
      " ===== NEW STEP 2 =====\n",
      "\n",
      " \n",
      "Length of the coefficiets: a = 1, b = 1\n",
      "\n",
      "Time to apply the full L: 0.05989157597650774\n",
      "Time to apply the full L: 0.060012343019479886\n",
      "Time to perform the Gram-Schmidt and retrive the coefficients: 0 s\n",
      "\n",
      "a_1 = 1.53692696e-03\n",
      "b_1 = 4.36591549e-06\n",
      "c_1 = 2.56320718e-03\n",
      "\n",
      "Status saved into 'Lanczos_H2/tdscha_lanczos_STEP2'\n",
      "Lanczos step 2 ultimated.\n",
      "\n",
      " ===== NEW STEP 3 =====\n",
      "\n",
      " \n",
      "Length of the coefficiets: a = 2, b = 2\n",
      "\n",
      "Time to apply the full L: 0.05869048601016402\n",
      "Time to apply the full L: 0.05995003099087626\n",
      "Converged (b coefficient is 1.2001457805134796e-13, |b| < 1e-12)\n",
      "   last a coeff = 0.0008601133708578465\n"
     ]
    }
   ],
   "source": [
    "# Run the calculation\n",
    "print(\"Running...\")\n",
    "lanczos.run_FT(LANCZOS_STEPS, save_dir = SAVE_FOLDER,\n",
    "               prefix = SAVE_PREFIX,\n",
    "               save_each = SAVE_EACH)"
   ]
  }
 ],
 "metadata": {
  "kernelspec": {
   "display_name": "Python 3",
   "language": "python",
   "name": "python3"
  },
  "language_info": {
   "codemirror_mode": {
    "name": "ipython",
    "version": 3
   },
   "file_extension": ".py",
   "mimetype": "text/x-python",
   "name": "python",
   "nbconvert_exporter": "python",
   "pygments_lexer": "ipython3",
   "version": "3.8.8"
  }
 },
 "nbformat": 4,
 "nbformat_minor": 5
}
